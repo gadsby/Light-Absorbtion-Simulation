{
 "cells": [
  {
   "cell_type": "code",
   "execution_count": 1,
   "metadata": {
    "collapsed": true
   },
   "outputs": [],
   "source": [
    "import matplotlib.pyplot as plt\n",
    "%matplotlib inline\n",
    "import numpy as np"
   ]
  },
  {
   "cell_type": "code",
   "execution_count": 2,
   "metadata": {
    "collapsed": false
   },
   "outputs": [],
   "source": [
    "class Tree:\n",
    "    \n",
    "    def __init__(self, maxHeight, maxRadius):\n",
    "        self.maxHeight = maxHeight\n",
    "        self.maxRadius = maxRadius\n",
    "        self.layers = []\n",
    "        self.numLayers = 0\n",
    "    \n",
    "    def addLayer(self, newLayer):\n",
    "        # error checking here\n",
    "        self.layers.append(newLayer)\n",
    "        self.numLayers += 1\n",
    "        self.layers = sorted(mainTree.layers, key=lambda x: x.height, reverse=True)\n",
    "\n",
    "    def plotTree(self):\n",
    "        # plot each layer on a 3D figure, rotate freely in notebook\n",
    "        pass"
   ]
  },
  {
   "cell_type": "code",
   "execution_count": 3,
   "metadata": {
    "collapsed": false
   },
   "outputs": [],
   "source": [
    "class Layer():\n",
    "    \n",
    "    def __init__(self, height, radius, parity):\n",
    "        self.height = height\n",
    "        self.radius = radius\n",
    "        self.leaves = []\n",
    "        self.numLeaves = 0\n",
    "        self.parity = parity\n",
    "        \n",
    "    def addLeaf(self, newLeaf):\n",
    "        # error checking here\n",
    "        self.leaves.append(newLeaf)\n",
    "        self.numLeaves += 1\n",
    "        \n",
    "    # not the best but good for now\n",
    "    def plotLayer(self):\n",
    "        \n",
    "        fig, ax = plt.subplots()\n",
    "        \n",
    "        layerCircle = plt.Circle((0,0), self.radius, color='k')\n",
    "        ax.add_artist(layerCircle)\n",
    "        \n",
    "        for leaf in self.leaves:\n",
    "            leafObj = plt.Circle(leaf.layerPos_cart, leaf.radius, color='r')\n",
    "            ax.add_artist(leafObj)\n",
    "\n",
    "        plt.axis('equal')\n",
    "        plt.axis(list(200*np.array([-1, 1, -1, 1]))) # fix this"
   ]
  },
  {
   "cell_type": "code",
   "execution_count": 4,
   "metadata": {
    "collapsed": true
   },
   "outputs": [],
   "source": [
    "class Leaf():\n",
    "    \n",
    "    def __init__(self, radius, posOnLayer):\n",
    "        self.radius = radius\n",
    "        self.layerPos_cart = (posOnLayer[0]*np.cos(posOnLayer[1]), posOnLayer[0]*np.sin(posOnLayer[1]))"
   ]
  },
  {
   "cell_type": "code",
   "execution_count": 5,
   "metadata": {
    "collapsed": true
   },
   "outputs": [],
   "source": [
    "class LightSource:\n",
    "    \"\"\"\n",
    "    Emit rays of light, check for intersection with layer, return proportion that made it through.\n",
    "    \"\"\"\n",
    "    \n",
    "    def __init__(self):\n",
    "        \n",
    "        pass\n",
    "    \n",
    "    def checkPenetration(self,layer):\n",
    "        pass\n",
    "        \n",
    "    def checkLeafIntersection(self,leaf):\n",
    "        pass"
   ]
  },
  {
   "cell_type": "code",
   "execution_count": 24,
   "metadata": {
    "collapsed": true
   },
   "outputs": [],
   "source": [
    "def deg2rad(degree):\n",
    "    return degree*np.pi/180\n",
    "\n",
    "def genPointFromCircle_cart(rMax):\n",
    "    t = 2*np.pi*np.random.random()\n",
    "    u = np.random.random()+np.random.random()\n",
    "    r = 2-u if u>1 else u\n",
    "    x = rMax*r*np.cos(t)\n",
    "    y = rMax*r*np.sin(t)\n",
    "    return (x,y)\n",
    "\n",
    "def genPointFromCircle_polar(rMax):\n",
    "    t = 2*np.pi*np.random.random()\n",
    "    u = np.random.random()+np.random.random()\n",
    "    r = 2-u if u>1 else u\n",
    "    x = rMax*r*np.cos(t)\n",
    "    y = rMax*r*np.sin(t)\n",
    "    return (rMax*r,t)\n",
    "\n",
    "def genPointFromCircle_polar_sectional(rMax):\n",
    "    t = 1/2*np.pi*np.random.random()\n",
    "    u = np.random.random()+np.random.random()\n",
    "    r = 2-u if u>1 else u\n",
    "    x = rMax*r*np.cos(t)\n",
    "    y = rMax*r*np.sin(t)\n",
    "    return (rMax*r,t)\n",
    "\n",
    "def checkDistance(pointCheck, leafCentre):\n",
    "    x2 = (pointCheck[0] - leafCentre[0])**2\n",
    "    y2 = (pointCheck[1] - leafCentre[1])**2\n",
    "    return np.sqrt(x2+y2)\n",
    "\n",
    "#def penetrationProportion_perLayer(layer, numTrials=10000):\n",
    "#    count = 0\n",
    "#    for i in range(numTrials):\n",
    "#        pointCheck = genPointFromCircle(layer.radius)\n",
    "#        intersect = False\n",
    "#        for leaf in layer.leaves:\n",
    "#            leafCentre = leaf.layerPos_cart\n",
    "#            leafRadius = leaf.radius\n",
    "#            dist2Point = checkDistance(pointCheck, leafCentre)\n",
    "#            if dist2Point < leafRadius:\n",
    "#                intersect = True\n",
    "#                break\n",
    "#        count += intersect\n",
    "#    return count/numTrials\n",
    "\n",
    "def penetrationTree(tree, numTrials=10000):\n",
    "    \n",
    "    stoppedAtLayer = np.array([0]*tree.numLayers)\n",
    "    \n",
    "    for i in range(numTrials):\n",
    "        pointCheck = genPointFromCircle(tree.maxRadius)\n",
    "        intersect = False\n",
    "        \n",
    "        for layer_index in range(tree.numLayers):\n",
    "            layer = tree.layers[layer_index]\n",
    "            \n",
    "            for leaf in layer.leaves:\n",
    "                leafCentre = leaf.layerPos_cart\n",
    "                leafRadius = leaf.radius\n",
    "                dist2Point = checkDistance(pointCheck, leafCentre)\n",
    "                if dist2Point < leafRadius:\n",
    "                    intersect = True\n",
    "                    stoppedAtLayer[layer_index] += 1\n",
    "                    break # stop checking leaves\n",
    "                    \n",
    "            if intersect:\n",
    "                break # stop checking layers\n",
    "                \n",
    "    return stoppedAtLayer/numTrials"
   ]
  },
  {
   "cell_type": "code",
   "execution_count": null,
   "metadata": {
    "collapsed": true
   },
   "outputs": [],
   "source": []
  },
  {
   "cell_type": "code",
   "execution_count": null,
   "metadata": {
    "collapsed": false
   },
   "outputs": [],
   "source": []
  },
  {
   "cell_type": "code",
   "execution_count": null,
   "metadata": {
    "collapsed": true
   },
   "outputs": [],
   "source": []
  },
  {
   "cell_type": "code",
   "execution_count": 25,
   "metadata": {
    "collapsed": false
   },
   "outputs": [
    {
     "data": {
      "image/png": "[encoded data removed]",
      "text/plain": [
       "<matplotlib.figure.Figure at 0x1db4cc504e0>"
      ]
     },
     "metadata": {},
     "output_type": "display_data"
    },
    {
     "data": {
      "image/png": "[encoded data removed]",
      "text/plain": [
       "<matplotlib.figure.Figure at 0x1db4d012ac8>"
      ]
     },
     "metadata": {},
     "output_type": "display_data"
    },
    {
     "data": {
      "image/png": "[encoded data removed]",
      "text/plain": [
       "<matplotlib.figure.Figure at 0x1db4caa32e8>"
      ]
     },
     "metadata": {},
     "output_type": "display_data"
    },
    {
     "data": {
      "image/png": "[encoded data removed]",
      "text/plain": [
       "<matplotlib.figure.Figure at 0x1db4cb269e8>"
      ]
     },
     "metadata": {},
     "output_type": "display_data"
    }
   ],
   "source": [
    "# Generate Main Tree\n",
    "mainTree = Tree(maxHeight=100,maxRadius=100)\n",
    "\n",
    "numLayers = 4\n",
    "layerHeights = [20,40,60,80]\n",
    "layerRadii = [80,60,40,20]\n",
    "\n",
    "numLeaves = 100\n",
    "leafRad = 2\n",
    "\n",
    "# Generate Layers\n",
    "for i in range(numLayers):\n",
    "    layerTemp = Layer(height=layerHeights[i],radius=layerRadii[i],parity = i%2)\n",
    "    mainTree.addLayer(layerTemp)\n",
    "    \n",
    "    # Generate Leaves; fixed radius, random position\n",
    "    for j in range(numLeaves):\n",
    "        pointTemp = list(genPointFromCircle_polar_sectional(layerRadii[i]))\n",
    "        # make all points lie in the o to pi region\n",
    "        if layerTemp.parity == 0:\n",
    "            if pointTemp[1] >= 0 and pointTemp[1] < np.pi:\n",
    "                pass\n",
    "            else:\n",
    "                pointTemp[1] += np.pi\n",
    "        # make all points lie in the pi to 2pi region\n",
    "        else:\n",
    "            if pointTemp[1] >= np.pi and pointTemp[1] < 2*np.pi:\n",
    "                pass\n",
    "            else:\n",
    "                pointTemp[1] += np.pi\n",
    "            \n",
    "        leafTemp = Leaf(radius=leafRad, posOnLayer=pointTemp)\n",
    "        \n",
    "        layerTemp.addLeaf(leafTemp)\n",
    "    \n",
    "\n",
    "# Plot Layers\n",
    "for i in range(mainTree.numLayers):\n",
    "    mainTree.layers[i].plotLayer()"
   ]
  },
  {
   "cell_type": "code",
   "execution_count": 27,
   "metadata": {
    "collapsed": false
   },
   "outputs": [
    {
     "data": {
      "image/png": "[encoded data removed]",
      "text/plain": [
       "<matplotlib.figure.Figure at 0x1db4c205a90>"
      ]
     },
     "metadata": {},
     "output_type": "display_data"
    },
    {
     "name": "stdout",
     "output_type": "stream",
     "text": [
      "Light Absorbed: 9.85%\n"
     ]
    }
   ],
   "source": [
    "# check penetration\n",
    "penTree = penetrationTree(mainTree,1000)\n",
    "\n",
    "plt.bar(range(mainTree.numLayers), penTree)\n",
    "plt.show()\n",
    "\n",
    "pctAbsorbed = sum(penTree)*100\n",
    "print('Light Absorbed: {}%'.format(pctAbsorbed))"
   ]
  },
  {
   "cell_type": "code",
   "execution_count": null,
   "metadata": {
    "collapsed": true
   },
   "outputs": [],
   "source": []
  },
  {
   "cell_type": "code",
   "execution_count": null,
   "metadata": {
    "collapsed": false
   },
   "outputs": [],
   "source": []
  },
  {
   "cell_type": "code",
   "execution_count": null,
   "metadata": {
    "collapsed": false
   },
   "outputs": [],
   "source": []
  },
  {
   "cell_type": "code",
   "execution_count": null,
   "metadata": {
    "collapsed": false
   },
   "outputs": [],
   "source": []
  },
  {
   "cell_type": "code",
   "execution_count": null,
   "metadata": {
    "collapsed": false
   },
   "outputs": [],
   "source": []
  },
  {
   "cell_type": "code",
   "execution_count": null,
   "metadata": {
    "collapsed": false
   },
   "outputs": [],
   "source": []
  },
  {
   "cell_type": "code",
   "execution_count": null,
   "metadata": {
    "collapsed": true
   },
   "outputs": [],
   "source": []
  }
 ],
 "metadata": {
  "kernelspec": {
   "display_name": "Python 3",
   "language": "python",
   "name": "python3"
  },
  "language_info": {
   "codemirror_mode": {
    "name": "ipython",
    "version": 3
   },
   "file_extension": ".py",
   "mimetype": "text/x-python",
   "name": "python",
   "nbconvert_exporter": "python",
   "pygments_lexer": "ipython3",
   "version": "3.6.0"
  }
 },
 "nbformat": 4,
 "nbformat_minor": 0
}
